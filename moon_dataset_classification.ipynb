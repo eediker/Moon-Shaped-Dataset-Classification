{
  "nbformat": 4,
  "nbformat_minor": 0,
  "metadata": {
    "colab": {
      "provenance": []
    },
    "kernelspec": {
      "name": "python3",
      "display_name": "Python 3"
    },
    "language_info": {
      "name": "python"
    },
    "gpuClass": "standard"
  },
  "cells": [
    {
      "cell_type": "code",
      "execution_count": 11,
      "metadata": {
        "id": "jpDCBsHUUprp",
        "colab": {
          "base_uri": "https://localhost:8080/"
        },
        "outputId": "e966cef2-4739-4d9a-ce83-c8b52c4699ae"
      },
      "outputs": [
        {
          "output_type": "execute_result",
          "data": {
            "text/plain": [
              "(tensor([[-0.0033,  0.3834],\n",
              "         [ 0.9435, -0.4815],\n",
              "         [ 0.9258, -0.4495],\n",
              "         ...,\n",
              "         [ 1.6496, -0.2837],\n",
              "         [-0.9294,  0.3664],\n",
              "         [ 0.7982,  0.6025]]),\n",
              " tensor([1., 1., 1., 1., 0., 1., 1., 1., 1., 0., 1., 0., 1., 1., 1., 1., 0., 1.,\n",
              "         1., 0., 1., 0., 0., 1., 0., 0., 0., 1., 1., 1., 0., 0., 1., 0., 0., 0.,\n",
              "         1., 1., 1., 0., 0., 0., 0., 1., 0., 0., 1., 1., 0., 1., 1., 1., 0., 1.,\n",
              "         0., 0., 1., 0., 0., 1., 0., 0., 1., 0., 1., 1., 1., 1., 0., 1., 0., 0.,\n",
              "         1., 1., 0., 0., 1., 0., 1., 0., 1., 0., 0., 0., 0., 1., 1., 1., 1., 0.,\n",
              "         0., 0., 1., 0., 1., 0., 1., 0., 0., 1., 1., 0., 1., 0., 1., 1., 1., 1.,\n",
              "         0., 1., 1., 1., 1., 1., 0., 0., 0., 1., 1., 0., 1., 0., 1., 0., 0., 1.,\n",
              "         1., 0., 1., 1., 1., 1., 0., 1., 1., 0., 0., 0., 0., 0., 0., 0., 1., 0.,\n",
              "         1., 1., 1., 0., 1., 0., 1., 0., 1., 0., 1., 0., 0., 1., 0., 1., 1., 1.,\n",
              "         1., 1., 1., 1., 0., 1., 0., 0., 0., 0., 0., 1., 0., 0., 0., 0., 1., 1.,\n",
              "         0., 1., 0., 1., 1., 0., 0., 0., 1., 1., 1., 1., 1., 0., 0., 0., 0., 0.,\n",
              "         1., 0., 0., 1., 1., 1., 1., 1., 0., 1., 0., 1., 0., 0., 1., 1., 1., 0.,\n",
              "         1., 0., 1., 1., 0., 1., 1., 0., 1., 0., 1., 0., 1., 1., 0., 1., 0., 1.,\n",
              "         0., 0., 0., 1., 0., 0., 0., 0., 1., 1., 0., 0., 0., 0., 0., 0., 0., 1.,\n",
              "         1., 1., 0., 0., 1., 1., 1., 0., 1., 0., 0., 0., 0., 1., 1., 0., 1., 0.,\n",
              "         0., 0., 1., 0., 1., 0., 0., 1., 0., 1., 1., 1., 0., 0., 0., 1., 0., 0.,\n",
              "         0., 1., 1., 1., 1., 0., 0., 0., 1., 0., 0., 0., 1., 0., 0., 0., 1., 1.,\n",
              "         0., 1., 1., 1., 1., 1., 1., 1., 0., 0., 0., 0., 1., 0., 0., 0., 0., 1.,\n",
              "         1., 1., 0., 0., 1., 0., 1., 0., 1., 1., 0., 0., 1., 1., 1., 1., 0., 0.,\n",
              "         0., 0., 0., 0., 1., 1., 0., 1., 0., 0., 1., 0., 0., 0., 0., 0., 0., 0.,\n",
              "         0., 1., 0., 0., 0., 0., 1., 0., 0., 1., 0., 1., 0., 0., 0., 1., 0., 0.,\n",
              "         1., 1., 0., 0., 1., 0., 0., 1., 1., 0., 1., 1., 0., 0., 1., 0., 1., 0.,\n",
              "         0., 0., 1., 1., 0., 0., 1., 1., 1., 1., 1., 0., 0., 1., 1., 1., 1., 0.,\n",
              "         1., 1., 1., 1., 1., 0., 0., 1., 0., 1., 0., 0., 0., 0., 1., 0., 0., 0.,\n",
              "         0., 0., 0., 0., 0., 0., 1., 1., 0., 1., 1., 1., 1., 1., 1., 0., 1., 1.,\n",
              "         1., 1., 0., 0., 0., 1., 1., 1., 0., 0., 0., 0., 1., 1., 0., 0., 0., 0.,\n",
              "         1., 0., 0., 0., 1., 0., 0., 1., 1., 1., 1., 1., 1., 0., 0., 0., 1., 0.,\n",
              "         0., 0., 0., 0., 1., 1., 1., 0., 0., 0., 0., 0., 1., 1., 1., 0., 0., 1.,\n",
              "         1., 1., 1., 0., 1., 1., 0., 1., 0., 0., 0., 1., 0., 0., 1., 0., 0., 1.,\n",
              "         1., 0., 0., 1., 1., 0., 1., 0., 1., 0., 1., 0., 1., 0., 0., 0., 1., 0.,\n",
              "         0., 0., 0., 0., 0., 1., 1., 1., 1., 0., 0., 0., 1., 0., 1., 1., 0., 0.,\n",
              "         0., 0., 0., 1., 1., 1., 0., 0., 1., 0., 0., 1., 0., 0., 1., 0., 0., 1.,\n",
              "         0., 0., 0., 1., 0., 0., 1., 1., 1., 0., 1., 1., 0., 0., 0., 1., 1., 1.,\n",
              "         1., 0., 0., 1., 1., 1., 0., 0., 0., 0., 1., 1., 0., 0., 1., 1., 0., 0.,\n",
              "         1., 1., 1., 1., 1., 1., 1., 0., 1., 0., 1., 0., 0., 1., 0., 1., 1., 1.,\n",
              "         1., 0., 0., 1., 1., 0., 0., 1., 0., 1., 0., 0., 0., 1., 0., 0., 1., 1.,\n",
              "         1., 1., 0., 1., 1., 1., 1., 1., 1., 1., 0., 1., 0., 1., 1., 1., 0., 0.,\n",
              "         1., 0., 0., 0., 1., 1., 1., 1., 0., 0., 0., 0., 1., 0., 1., 1., 1., 0.,\n",
              "         1., 0., 0., 1., 0., 0., 1., 1., 1., 1., 1., 0., 1., 0., 0., 0., 1., 1.,\n",
              "         1., 1., 1., 0., 0., 0., 1., 1., 1., 1., 0., 0., 0., 0., 0., 1., 1., 0.,\n",
              "         1., 0., 1., 0., 0., 0., 0., 0., 0., 0., 0., 0., 1., 1., 1., 1., 1., 0.,\n",
              "         1., 0., 1., 1., 1., 1., 0., 1., 1., 1., 1., 1., 1., 1., 1., 0., 1., 1.,\n",
              "         0., 1., 0., 0., 0., 1., 0., 1., 1., 1., 0., 1., 1., 0., 1., 1., 0., 1.,\n",
              "         0., 1., 1., 0., 0., 1., 1., 1., 0., 0., 0., 0., 1., 1., 0., 0., 1., 1.,\n",
              "         1., 1., 1., 1., 1., 1., 1., 1., 1., 1., 1., 1., 0., 0., 1., 0., 1., 0.,\n",
              "         1., 0., 1., 1., 1., 1., 1., 1., 0., 1., 0., 1., 1., 1., 0., 1., 1., 0.,\n",
              "         0., 1., 0., 1., 1., 0., 0., 1., 1., 1., 1., 1., 1., 1., 1., 0., 1., 1.,\n",
              "         1., 0., 1., 0., 0., 1., 1., 0., 0., 0., 1., 0., 0., 1., 0., 0., 0., 1.,\n",
              "         0., 1., 0., 0., 0., 0., 1., 0., 1., 1., 1., 1., 0., 1., 0., 0., 0., 0.,\n",
              "         0., 0., 1., 0., 1., 0., 1., 0., 1., 1., 1., 0., 1., 0., 1., 0., 0., 1.,\n",
              "         1., 1., 0., 0., 0., 1., 1., 0., 1., 0., 1., 1., 0., 1., 0., 0., 1., 1.,\n",
              "         1., 0., 0., 0., 1., 1., 0., 0., 0., 0., 0., 1., 1., 0., 1., 0., 0., 0.,\n",
              "         1., 0., 0., 0., 1., 1., 1., 1., 0., 1., 1., 1., 0., 1., 1., 1., 1., 0.,\n",
              "         1., 1., 0., 1., 1., 0., 0., 1., 1., 1., 0., 0., 0., 0., 0., 0., 1., 0.,\n",
              "         0., 1., 0., 0., 0., 1., 0., 1., 0., 1., 1., 0., 0., 0., 0., 0., 0., 0.,\n",
              "         0., 1., 0., 1., 0., 0., 0., 1., 0., 0.]))"
            ]
          },
          "metadata": {},
          "execution_count": 11
        }
      ],
      "source": [
        "from sklearn.datasets import make_moons\n",
        "import torch\n",
        "\n",
        "n_samples = 1000\n",
        "\n",
        "X,y = make_moons(n_samples=n_samples,\n",
        "                 shuffle = True,\n",
        "                 noise = 0.02,\n",
        "                 random_state = 42)\n",
        "\n",
        "X = torch.from_numpy(X).type(torch.float)\n",
        "y = torch.from_numpy(y).type(torch.float)\n",
        "\n",
        "X,y\n"
      ]
    },
    {
      "cell_type": "code",
      "source": [
        "import matplotlib.pyplot as plt\n",
        "plt.scatter(x= X[:,0],\n",
        "            y= X[:,1],\n",
        "            c = y,\n",
        "            cmap = plt.cm.RdYlBu)"
      ],
      "metadata": {
        "colab": {
          "base_uri": "https://localhost:8080/",
          "height": 447
        },
        "id": "DztiYFrSmI_u",
        "outputId": "a5134210-df42-4948-c7e5-6110f7b4b087"
      },
      "execution_count": 12,
      "outputs": [
        {
          "output_type": "execute_result",
          "data": {
            "text/plain": [
              "<matplotlib.collections.PathCollection at 0x7f9e091654f0>"
            ]
          },
          "metadata": {},
          "execution_count": 12
        },
        {
          "output_type": "display_data",
          "data": {
            "text/plain": [
              "<Figure size 640x480 with 1 Axes>"
            ],
            "image/png": "[encoded data removed]"
          },
          "metadata": {}
        }
      ]
    },
    {
      "cell_type": "code",
      "source": [
        "from sklearn.model_selection import train_test_split\n",
        "\n",
        "X_train,X_test,y_train,y_test = train_test_split(X,y,test_size=0.2,random_state = 42)\n"
      ],
      "metadata": {
        "id": "8GpUO1egfoZv"
      },
      "execution_count": 13,
      "outputs": []
    },
    {
      "cell_type": "code",
      "source": [
        "device = \"cuda\" if torch.cuda.is_available() else \"cpu\"\n",
        "device"
      ],
      "metadata": {
        "colab": {
          "base_uri": "https://localhost:8080/",
          "height": 35
        },
        "id": "1GLKHGj9g4zW",
        "outputId": "4ef7e8f9-7784-40e2-f162-1a028f00cfb9"
      },
      "execution_count": 14,
      "outputs": [
        {
          "output_type": "execute_result",
          "data": {
            "text/plain": [
              "'cpu'"
            ],
            "application/vnd.google.colaboratory.intrinsic+json": {
              "type": "string"
            }
          },
          "metadata": {},
          "execution_count": 14
        }
      ]
    },
    {
      "cell_type": "code",
      "source": [
        "class MoonDatasetClassifier(torch.nn.Module):\n",
        "  def __init__(self):\n",
        "    super().__init__()\n",
        "    self.layer1 = torch.nn.Linear(in_features = 2,out_features=10)\n",
        "    self.layer2 = torch.nn.Linear(in_features = 10,out_features = 5)\n",
        "    self.layer3 = torch.nn.Linear(in_features=5,out_features = 1)\n",
        "    self.relu = torch.nn.ReLU()\n",
        "\n",
        "  def forward(self,x):\n",
        "    return self.layer3(self.relu(self.layer2(self.relu(self.layer1(x)))))\n",
        "\n",
        "\n",
        "model0 = MoonDatasetClassifier().to(device)\n",
        "model0\n"
      ],
      "metadata": {
        "colab": {
          "base_uri": "https://localhost:8080/"
        },
        "id": "tos6qWRThTbf",
        "outputId": "6eea6fbc-f38c-4388-f6a6-31e493fe5b33"
      },
      "execution_count": 15,
      "outputs": [
        {
          "output_type": "execute_result",
          "data": {
            "text/plain": [
              "MoonDatasetClassifier(\n",
              "  (layer1): Linear(in_features=2, out_features=10, bias=True)\n",
              "  (layer2): Linear(in_features=10, out_features=5, bias=True)\n",
              "  (layer3): Linear(in_features=5, out_features=1, bias=True)\n",
              "  (relu): ReLU()\n",
              ")"
            ]
          },
          "metadata": {},
          "execution_count": 15
        }
      ]
    },
    {
      "cell_type": "code",
      "source": [
        "loss_fn = torch.nn.BCEWithLogitsLoss()\n",
        "\n",
        "optimizer = torch.optim.SGD(params = model0.parameters(),\n",
        "                            lr = 0.1)\n",
        "\n"
      ],
      "metadata": {
        "id": "b6FoBAr9iGo-"
      },
      "execution_count": 16,
      "outputs": []
    },
    {
      "cell_type": "code",
      "source": [
        "X_train,y_train = X_train.to(device),y_train.to(device)\n",
        "X_test,y_test = X_test.to(device),y_test.to(device)\n",
        "\n",
        "print(X_train.dtype)\n",
        "\n",
        "epochs = 1000\n",
        "\n",
        "for epoch in range(epochs):\n",
        "  model0.train()\n",
        "\n",
        "  y_train_logits = model0(X_train).squeeze()\n",
        "\n",
        "  loss = loss_fn(y_train_logits,y_train)\n",
        "\n",
        "  optimizer.zero_grad()\n",
        "\n",
        "  loss.backward()\n",
        "\n",
        "  optimizer.step()\n",
        "\n",
        "  model0.eval()\n",
        "\n",
        "  with torch.inference_mode():\n",
        "    y_test_logits = model0(X_test).squeeze()\n",
        "    test_loss = loss_fn(y_test_logits,y_test)\n",
        "    y_test_preds = torch.round(torch.sigmoid(y_test_logits))\n",
        "    acc = (y_test_preds.round() == y_test).float().mean()\n",
        "    acc = (float(acc))*100\n",
        "\n",
        "  if epoch % 100 == 0:\n",
        "    print(f\"Epoch : {epoch}   |  Loss : {loss:.5f}  |  Test Loss : {test_loss:.5f}   |   Accuracy : {acc:.5f}\" )\n",
        "\n",
        "\n",
        "\n"
      ],
      "metadata": {
        "id": "nuycdylQim5u",
        "colab": {
          "base_uri": "https://localhost:8080/"
        },
        "outputId": "5bac485f-19a1-4e2c-8864-ef64f369d0ed"
      },
      "execution_count": 17,
      "outputs": [
        {
          "output_type": "stream",
          "name": "stdout",
          "text": [
            "torch.float32\n",
            "Epoch : 0   |  Loss : 0.72418  |  Test Loss : 0.72265   |   Accuracy : 50.00000\n",
            "Epoch : 100   |  Loss : 0.41793  |  Test Loss : 0.43226   |   Accuracy : 78.00000\n",
            "Epoch : 200   |  Loss : 0.24230  |  Test Loss : 0.24526   |   Accuracy : 90.00000\n",
            "Epoch : 300   |  Loss : 0.22383  |  Test Loss : 0.21900   |   Accuracy : 91.00000\n",
            "Epoch : 400   |  Loss : 0.21749  |  Test Loss : 0.20955   |   Accuracy : 91.00000\n",
            "Epoch : 500   |  Loss : 0.21298  |  Test Loss : 0.20328   |   Accuracy : 90.50000\n",
            "Epoch : 600   |  Loss : 0.20958  |  Test Loss : 0.19847   |   Accuracy : 90.50000\n",
            "Epoch : 700   |  Loss : 0.20642  |  Test Loss : 0.19424   |   Accuracy : 89.50000\n",
            "Epoch : 800   |  Loss : 0.19868  |  Test Loss : 0.18603   |   Accuracy : 91.00000\n",
            "Epoch : 900   |  Loss : 0.16495  |  Test Loss : 0.15399   |   Accuracy : 94.00000\n"
          ]
        }
      ]
    }
  ]
}